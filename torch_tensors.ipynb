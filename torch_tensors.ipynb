{
 "cells": [
  {
   "cell_type": "markdown",
   "id": "7020b6d7-49cd-4fca-84b9-123be9847765",
   "metadata": {},
   "source": [
    "# Introduction to PyTorch Tensors\n",
    "\n",
    "This simple notebook introduces PyTorch tensors and shows how to convert back and forth between torch tensors and numpy arrays. \n",
    "\n",
    "**Sources:**\n",
    "- [Patrick Loeber](https://www.patrickloeber.com/)  \n",
    "- [PyTorch Turorials - Tensors](https://pytorch.org/tutorials/beginner/basics/tensorqs_tutorial.html)  \n",
    "- [Pytorch General Guide](https://pytorch.org/tutorials/beginner/basics/intro.html)\n"
   ]
  },
  {
   "cell_type": "markdown",
   "id": "71dd1579-fd1a-4865-9ba3-d317f5075d7d",
   "metadata": {},
   "source": [
    "### Imports"
   ]
  },
  {
   "cell_type": "code",
   "execution_count": 51,
   "id": "468ed498-ebd5-4941-98e5-af3cde72b7e5",
   "metadata": {
    "tags": []
   },
   "outputs": [],
   "source": [
    "import torch \n",
    "import numpy as np"
   ]
  },
  {
   "cell_type": "markdown",
   "id": "7855744b-87f5-48e5-b469-053a1c9c8fda",
   "metadata": {},
   "source": [
    "### Scalar torch tensor\n",
    "\n",
    "First lets create a torch tensor containing a scalar value"
   ]
  },
  {
   "cell_type": "code",
   "execution_count": 2,
   "id": "4d389fca-08cf-484f-91ec-5c3f2b451abf",
   "metadata": {
    "tags": []
   },
   "outputs": [
    {
     "data": {
      "text/plain": [
       "tensor([0.])"
      ]
     },
     "execution_count": 2,
     "metadata": {},
     "output_type": "execute_result"
    }
   ],
   "source": [
    "x = torch.empty(1)\n",
    "x"
   ]
  },
  {
   "cell_type": "markdown",
   "id": "060b407a-49d2-4703-9452-165c2aeb9342",
   "metadata": {},
   "source": [
    "### 1D torch tensor\n",
    "\n",
    "Lets now create a vector, similar to a numpy array with shape [n,1] or shape [n,]"
   ]
  },
  {
   "cell_type": "code",
   "execution_count": 4,
   "id": "1e73c2b0-50b4-4fa3-9d02-487decf4d6c7",
   "metadata": {
    "tags": []
   },
   "outputs": [
    {
     "data": {
      "text/plain": [
       "tensor([0., 0., 0., 0., 0.])"
      ]
     },
     "execution_count": 4,
     "metadata": {},
     "output_type": "execute_result"
    }
   ],
   "source": [
    "x = torch.empty(5)\n",
    "x.round()"
   ]
  },
  {
   "cell_type": "markdown",
   "id": "bec72616-c177-42b3-82cb-4ba0a96707ef",
   "metadata": {},
   "source": [
    "### 2D torch tensor\n",
    "\n",
    "Let's create a 2D torch tensor, similar to a 2D numpy array:"
   ]
  },
  {
   "cell_type": "code",
   "execution_count": 5,
   "id": "1b1a2bfe-0e57-432b-ab16-af17fa09b72e",
   "metadata": {
    "tags": []
   },
   "outputs": [
    {
     "data": {
      "text/plain": [
       "tensor([[0., 0., 0., 0.],\n",
       "        [0., 0., 0., 0.],\n",
       "        [0., 0., 0., 0.]])"
      ]
     },
     "execution_count": 5,
     "metadata": {},
     "output_type": "execute_result"
    }
   ],
   "source": [
    "x = torch.empty(3, 4)\n",
    "x.round()"
   ]
  },
  {
   "cell_type": "markdown",
   "id": "3c7d1e1d-7b39-4729-bc58-3d23f06f0233",
   "metadata": {},
   "source": [
    "### 3D torch tensor\n",
    "\n",
    "Let's also examine a 3D torch tensor, commonly used when processing image data"
   ]
  },
  {
   "cell_type": "code",
   "execution_count": 6,
   "id": "4a11032c-75c2-4e0e-a55c-5d6ac7f4d44d",
   "metadata": {
    "tags": []
   },
   "outputs": [
    {
     "data": {
      "text/plain": [
       "tensor([[[0., 0., 0.],\n",
       "         [0., 0., 0.]],\n",
       "\n",
       "        [[0., 0., 0.],\n",
       "         [0., 0., 0.]]])"
      ]
     },
     "execution_count": 6,
     "metadata": {},
     "output_type": "execute_result"
    }
   ],
   "source": [
    "x = torch.empty(2, 2, 3)\n",
    "x.round()"
   ]
  },
  {
   "cell_type": "markdown",
   "id": "71f931e7-a96f-416d-885c-a4552e6eb3f1",
   "metadata": {},
   "source": [
    "### 4D torch tensor\n",
    "\n",
    "We can generate torch tensors with even higher dimensions such as a 4D torch tensor: "
   ]
  },
  {
   "cell_type": "code",
   "execution_count": 15,
   "id": "3faf0719-9f03-4ed4-a424-144922a3daec",
   "metadata": {
    "tags": []
   },
   "outputs": [
    {
     "data": {
      "text/plain": [
       "tensor([[[[0., 0., 0.],\n",
       "          [0., 0., 0.]],\n",
       "\n",
       "         [[0., 0., 0.],\n",
       "          [0., 0., 0.]]],\n",
       "\n",
       "\n",
       "        [[[0., 0., 0.],\n",
       "          [0., 0., 0.]],\n",
       "\n",
       "         [[0., 0., 0.],\n",
       "          [0., 0., 0.]]]])"
      ]
     },
     "execution_count": 15,
     "metadata": {},
     "output_type": "execute_result"
    }
   ],
   "source": [
    "x = torch.empty(2, 2, 2, 3)\n",
    "x.round()"
   ]
  },
  {
   "cell_type": "markdown",
   "id": "dea0e287-a0a8-47e1-b7c8-283dcd813158",
   "metadata": {},
   "source": [
    "### Random tensors\n",
    "\n",
    "Similar to numpy, we can also generate matrices containing random values\n",
    "\n",
    "The values are drawn from a uniform distribution over the interval $[0, 1)$"
   ]
  },
  {
   "cell_type": "code",
   "execution_count": 18,
   "id": "62928d25-f43b-4ad2-8cca-b4aa0dd2e826",
   "metadata": {
    "tags": []
   },
   "outputs": [
    {
     "data": {
      "text/plain": [
       "tensor([[0.8393, 0.7594, 0.9819, 0.7015],\n",
       "        [0.5948, 0.1297, 0.1648, 0.3865],\n",
       "        [0.6259, 0.3575, 0.8722, 0.2854]])"
      ]
     },
     "execution_count": 18,
     "metadata": {},
     "output_type": "execute_result"
    }
   ],
   "source": [
    "x = torch.rand(3, 4)\n",
    "x"
   ]
  },
  {
   "cell_type": "markdown",
   "id": "c09b3121-6004-44d3-87fc-99a0a562a7fd",
   "metadata": {},
   "source": [
    "### Tesnsors filled with a single value\n",
    "\n",
    "Again similar to numpy we can generate a tensor filled with a single value"
   ]
  },
  {
   "cell_type": "code",
   "execution_count": 19,
   "id": "eef34360-f6cc-45fc-beb7-e66f51c5a4d8",
   "metadata": {
    "tags": []
   },
   "outputs": [
    {
     "data": {
      "text/plain": [
       "tensor([[1., 1., 1.],\n",
       "        [1., 1., 1.]])"
      ]
     },
     "execution_count": 19,
     "metadata": {},
     "output_type": "execute_result"
    }
   ],
   "source": [
    "x = torch.ones(2, 3)\n",
    "x"
   ]
  },
  {
   "cell_type": "markdown",
   "id": "c4577d73-1d66-4554-bc42-e499e6ad7f9d",
   "metadata": {},
   "source": [
    "### Altering the dtype in the tensor\n",
    "\n",
    "We can also specifgy the data type for the data stored in a torch tensor"
   ]
  },
  {
   "cell_type": "code",
   "execution_count": 23,
   "id": "ab1212f5-ae2c-4f8b-b210-b8e68ece7836",
   "metadata": {
    "tags": []
   },
   "outputs": [
    {
     "name": "stdout",
     "output_type": "stream",
     "text": [
      "tensor([[1, 1, 1],\n",
      "        [1, 1, 1]], dtype=torch.int32)\n",
      "tensor([[1., 1., 1.],\n",
      "        [1., 1., 1.]], dtype=torch.float16)\n",
      "tensor([[1., 1., 1.],\n",
      "        [1., 1., 1.]], dtype=torch.float64)\n"
     ]
    }
   ],
   "source": [
    "x = torch.ones(2, 3, dtype=torch.int32)\n",
    "print(x)\n",
    "\n",
    "y = torch.ones(2, 3, dtype=torch.float16)\n",
    "print(y)\n",
    "\n",
    "z = torch.ones(2, 3, dtype=torch.float64)\n",
    "print(z)"
   ]
  },
  {
   "cell_type": "markdown",
   "id": "b127d948-33d3-40bb-a2df-90aa10458308",
   "metadata": {},
   "source": [
    "### Obtain the size of a torch tensor\n",
    "\n",
    "This is very similar to numpy array's shape() method"
   ]
  },
  {
   "cell_type": "code",
   "execution_count": 24,
   "id": "4af85db8-6555-4497-abbe-994a0af93443",
   "metadata": {
    "tags": []
   },
   "outputs": [
    {
     "name": "stdout",
     "output_type": "stream",
     "text": [
      "torch.Size([2, 3])\n"
     ]
    }
   ],
   "source": [
    "x = torch.ones(2, 3, dtype=torch.int32)\n",
    "print(x.size())"
   ]
  },
  {
   "cell_type": "markdown",
   "id": "9b7acc1f-8d8f-4e02-bcfa-8009941cc210",
   "metadata": {},
   "source": [
    "### Generating a tensor from a python list"
   ]
  },
  {
   "cell_type": "code",
   "execution_count": 25,
   "id": "d7ffe1cd-c2ba-424c-a1ae-e2a877e33c7e",
   "metadata": {
    "tags": []
   },
   "outputs": [
    {
     "name": "stdout",
     "output_type": "stream",
     "text": [
      "tensor([2.5000, 0.1000])\n"
     ]
    }
   ],
   "source": [
    "x = torch.tensor([2.5, 0.1])\n",
    "print(x)"
   ]
  },
  {
   "cell_type": "markdown",
   "id": "ef1ef474-4666-4768-b213-32d1e4f89ece",
   "metadata": {},
   "source": [
    "# Tensor Operations"
   ]
  },
  {
   "cell_type": "markdown",
   "id": "aa0864b3-0b1f-40e1-af8f-4a6e6408e7b7",
   "metadata": {},
   "source": [
    "We can now add, subtract, divide, and multiply our torch tensors. \n",
    "\n",
    "We'll see how to apply both **element-wise** and **matrix** multiplication."
   ]
  },
  {
   "cell_type": "code",
   "execution_count": 36,
   "id": "ce91c33a-2067-43b0-ab05-c5475ed0ac3e",
   "metadata": {
    "tags": []
   },
   "outputs": [
    {
     "name": "stdout",
     "output_type": "stream",
     "text": [
      "tensor([[0.1095, 0.0481],\n",
      "        [0.0902, 0.0897]])\n",
      "tensor([[0.8459, 0.7318],\n",
      "        [0.5451, 0.9822]])\n",
      "tensor([[0.9554, 0.7800],\n",
      "        [0.6354, 1.0719]])\n"
     ]
    }
   ],
   "source": [
    "# addition\n",
    "x = torch.rand(2,2)\n",
    "y = torch.rand(2,2)\n",
    "print(x)\n",
    "print(y)\n",
    "z = x + y             #  <-- These two lines achieve the same thing\n",
    "z = torch.add(x, y)   #  <-- These two lines achieve the same thing\n",
    "print(z)"
   ]
  },
  {
   "cell_type": "code",
   "execution_count": 37,
   "id": "7b2489af-0e93-4383-996b-c1150b996bc8",
   "metadata": {
    "tags": []
   },
   "outputs": [
    {
     "name": "stdout",
     "output_type": "stream",
     "text": [
      "tensor([[-0.7364, -0.6837],\n",
      "        [-0.4549, -0.8925]])\n"
     ]
    }
   ],
   "source": [
    "# subtraction\n",
    "z = x - y                  #  <-- These two lines achieve the same thing\n",
    "z = torch.subtract(x, y)   #  <-- These two lines achieve the same thing\n",
    "print(z)"
   ]
  },
  {
   "cell_type": "markdown",
   "id": "4f661069-c689-4583-96f1-1c131c46fb2e",
   "metadata": {},
   "source": [
    "### in-place operations\n",
    "\n",
    "Notice here how we can use **add_()** to do an in-place addition. Notice the trailing underscore here? Every operations in pytorch with a trailing underscore makes the update inplace. "
   ]
  },
  {
   "cell_type": "code",
   "execution_count": 38,
   "id": "38e6c471-010a-42cb-abfe-31333cdefd96",
   "metadata": {
    "tags": []
   },
   "outputs": [
    {
     "name": "stdout",
     "output_type": "stream",
     "text": [
      "tensor([[0.9554, 0.7800],\n",
      "        [0.6354, 1.0719]])\n"
     ]
    }
   ],
   "source": [
    "# in-place addition\n",
    "y.add_(x)  # <-- updates y inplace\n",
    "print(y)"
   ]
  },
  {
   "cell_type": "code",
   "execution_count": 39,
   "id": "d85330b4-e3cc-41d8-ad1c-25d95013579c",
   "metadata": {
    "tags": []
   },
   "outputs": [
    {
     "name": "stdout",
     "output_type": "stream",
     "text": [
      "tensor([[0.8459, 0.7318],\n",
      "        [0.5451, 0.9822]])\n"
     ]
    }
   ],
   "source": [
    "# in-place subtraction\n",
    "y.subtract_(x)  # <-- updates y inplace\n",
    "print(y)"
   ]
  },
  {
   "cell_type": "markdown",
   "id": "d11d66c1-318f-4970-b6e2-d863b0ff3907",
   "metadata": {},
   "source": [
    "### Tensor multiplication"
   ]
  },
  {
   "cell_type": "markdown",
   "id": "9a5fc10b-67db-4bd3-8c01-3b7040a5c28a",
   "metadata": {},
   "source": [
    "**Element-wise multiplication**"
   ]
  },
  {
   "cell_type": "code",
   "execution_count": 45,
   "id": "bde24352-1b43-4a46-b65a-a36cc0d96783",
   "metadata": {
    "tags": []
   },
   "outputs": [
    {
     "name": "stdout",
     "output_type": "stream",
     "text": [
      "tensor([[0.1169, 0.1922],\n",
      "        [0.4562, 0.6737]])\n",
      "tensor([[0.0578, 0.8853],\n",
      "        [0.7563, 0.9064]])\n",
      "tensor([[0.0068, 0.1701],\n",
      "        [0.3450, 0.6106]])\n"
     ]
    }
   ],
   "source": [
    "# element-wise multiplication\n",
    "x = torch.rand(2,2)\n",
    "y = torch.rand(2,2)\n",
    "print(x)\n",
    "print(y)\n",
    "z = torch.multiply(x, y)   #  <-- These two lines achieve the same thing\n",
    "z = x * y                  #  <-- These two lines achieve the same thing\n",
    "print(z)"
   ]
  },
  {
   "cell_type": "markdown",
   "id": "244b69c0-d181-467b-928c-38bde18d061a",
   "metadata": {},
   "source": [
    "**Element-wise division**"
   ]
  },
  {
   "cell_type": "code",
   "execution_count": 49,
   "id": "0045ddaf-fbf8-4356-8221-3b5beac1d219",
   "metadata": {
    "tags": []
   },
   "outputs": [
    {
     "name": "stdout",
     "output_type": "stream",
     "text": [
      "tensor([[0.6204, 0.1772],\n",
      "        [0.1047, 0.8120]])\n",
      "tensor([[0.8453, 0.9869],\n",
      "        [0.0296, 0.5976]])\n",
      "tensor([[0.7339, 0.1795],\n",
      "        [3.5387, 1.3589]])\n"
     ]
    }
   ],
   "source": [
    "# element-wise division\n",
    "x = torch.rand(2,2)\n",
    "y = torch.rand(2,2)\n",
    "print(x)\n",
    "print(y)\n",
    "z = torch.div(x, y)        # <-- These two lines achieve the same thing\n",
    "z = x / y                  #  <-- These two lines achieve the same thing\n",
    "print(z)"
   ]
  },
  {
   "cell_type": "markdown",
   "id": "1118b4b1-45a1-4f95-96e5-3db5cf9d784a",
   "metadata": {},
   "source": [
    "**Matrix Multiplication**"
   ]
  },
  {
   "cell_type": "code",
   "execution_count": 50,
   "id": "bc302a7c-7901-4b83-a669-ace83f6b48d3",
   "metadata": {
    "tags": []
   },
   "outputs": [
    {
     "name": "stdout",
     "output_type": "stream",
     "text": [
      "tensor([[0.9782, 0.8518],\n",
      "        [0.4955, 0.0309]])\n",
      "tensor([[0.5914, 0.9452],\n",
      "        [0.2539, 0.8429]])\n",
      "tensor([[0.7947, 1.6425],\n",
      "        [0.3009, 0.4944]])\n"
     ]
    }
   ],
   "source": [
    "# element-wise division\n",
    "x = torch.rand(2,2)\n",
    "y = torch.rand(2,2)\n",
    "print(x)\n",
    "print(y)\n",
    "\n",
    "# matrix multiplication\n",
    "z = torch.matmul(x, y)\n",
    "print(z)"
   ]
  },
  {
   "cell_type": "code",
   "execution_count": null,
   "id": "dcf76056-5209-4f98-bdfb-cf05d51903b5",
   "metadata": {},
   "outputs": [],
   "source": []
  },
  {
   "cell_type": "code",
   "execution_count": null,
   "id": "54025154-f2e5-4b17-bb7b-af7efcc8ceea",
   "metadata": {},
   "outputs": [],
   "source": []
  },
  {
   "cell_type": "code",
   "execution_count": null,
   "id": "dfa61438-449c-440c-a9d0-b86f3170fd4f",
   "metadata": {},
   "outputs": [],
   "source": []
  },
  {
   "cell_type": "code",
   "execution_count": null,
   "id": "d744997d-b17b-4017-9a78-0b617d5a3172",
   "metadata": {},
   "outputs": [],
   "source": []
  },
  {
   "cell_type": "code",
   "execution_count": null,
   "id": "267c452b-3474-4a5a-8578-b17b35f9907f",
   "metadata": {},
   "outputs": [],
   "source": []
  },
  {
   "cell_type": "code",
   "execution_count": null,
   "id": "6de70bbe-d74b-4452-bb89-8c4bd816d133",
   "metadata": {},
   "outputs": [],
   "source": []
  }
 ],
 "metadata": {
  "kernelspec": {
   "display_name": "Python 3 (ipykernel)",
   "language": "python",
   "name": "python3"
  },
  "language_info": {
   "codemirror_mode": {
    "name": "ipython",
    "version": 3
   },
   "file_extension": ".py",
   "mimetype": "text/x-python",
   "name": "python",
   "nbconvert_exporter": "python",
   "pygments_lexer": "ipython3",
   "version": "3.9.16"
  }
 },
 "nbformat": 4,
 "nbformat_minor": 5
}
