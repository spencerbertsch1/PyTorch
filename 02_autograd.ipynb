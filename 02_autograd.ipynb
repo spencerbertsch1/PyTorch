{
 "cells": [
  {
   "cell_type": "markdown",
   "id": "2d19ab4a-58e3-43b2-8819-296b014da05c",
   "metadata": {},
   "source": [
    "# Autograd in PyTorch"
   ]
  },
  {
   "cell_type": "code",
   "execution_count": 24,
   "id": "ba376915-a1e5-4e18-931b-7f68a7840970",
   "metadata": {},
   "outputs": [],
   "source": [
    "import torch"
   ]
  },
  {
   "cell_type": "markdown",
   "id": "d215ebf2-13c9-4d68-a2bd-f774b195926b",
   "metadata": {},
   "source": [
    "Imagine we have some tensor $x$"
   ]
  },
  {
   "cell_type": "code",
   "execution_count": 25,
   "id": "ca266c63-f476-4d4f-8907-e3ce9caccf2e",
   "metadata": {},
   "outputs": [
    {
     "data": {
      "text/plain": [
       "tensor([-0.1870, -0.6371, -0.2070])"
      ]
     },
     "execution_count": 25,
     "metadata": {},
     "output_type": "execute_result"
    }
   ],
   "source": [
    "x = torch.randn(3)\n",
    "x"
   ]
  },
  {
   "cell_type": "markdown",
   "id": "320ecfeb-996b-488a-b9b8-bb92aeb729dc",
   "metadata": {},
   "source": [
    "Now imagine that we know that we want to calculate the gradient of a function wrt $x$ later on, then we would need to specify the following: "
   ]
  },
  {
   "cell_type": "code",
   "execution_count": 26,
   "id": "829f4317-140e-43c7-9c4d-3edaa5dc2161",
   "metadata": {},
   "outputs": [
    {
     "data": {
      "text/plain": [
       "tensor([ 0.4718,  1.8963, -1.5208], requires_grad=True)"
      ]
     },
     "execution_count": 26,
     "metadata": {},
     "output_type": "execute_result"
    }
   ],
   "source": [
    "x = torch.randn(3, requires_grad=True)\n",
    "x"
   ]
  },
  {
   "cell_type": "code",
   "execution_count": 27,
   "id": "3745195a-316a-4faf-b386-9348d229cedc",
   "metadata": {},
   "outputs": [],
   "source": [
    "y = 3"
   ]
  },
  {
   "cell_type": "code",
   "execution_count": 28,
   "id": "996d97bb-1301-49be-bdb2-e37d4f2ac527",
   "metadata": {},
   "outputs": [],
   "source": [
    "z = 5"
   ]
  },
  {
   "cell_type": "markdown",
   "id": "6eb17ef5-b3f0-49d0-8f33-8ea537e7f1bc",
   "metadata": {},
   "source": [
    "Now PyTorch will track the gradient of $x$ whenever do perform operations on this tensor! PyTorch will create a computational graph. "
   ]
  },
  {
   "cell_type": "markdown",
   "id": "2e1b734e-a8b9-468f-9d46-b840a1805bd0",
   "metadata": {},
   "source": [
    "<center><img \n",
    "     src=\"im3.jpg\" \n",
    "     align=\"center\" \n",
    "     width=\"300\" \n",
    "/></center>"
   ]
  },
  {
   "cell_type": "code",
   "execution_count": 29,
   "id": "419d1375-5dcb-4bbe-9414-044531304910",
   "metadata": {},
   "outputs": [
    {
     "name": "stdout",
     "output_type": "stream",
     "text": [
      "tensor([ 1.4153,  5.6890, -4.5624], grad_fn=<MulBackward0>)\n"
     ]
    }
   ],
   "source": [
    "U = x * y\n",
    "print(U)"
   ]
  },
  {
   "cell_type": "markdown",
   "id": "7fde30cb-481c-4732-b754-a416f39e0f9e",
   "metadata": {},
   "source": [
    "Here we see that $U$ has the **grad_fn** attribute **MulBackward** because here our operation was a multiplication. Let's do some additional operations!"
   ]
  },
  {
   "cell_type": "markdown",
   "id": "c21374b3-03ff-41c4-a3c6-9dd4a0caffc6",
   "metadata": {},
   "source": [
    "<center><img \n",
    "     src=\"02_imgs/im4.png\" \n",
    "     align=\"center\" \n",
    "     width=\"450\" \n",
    "/></center>"
   ]
  },
  {
   "cell_type": "code",
   "execution_count": 30,
   "id": "fcc32449-121a-4c37-b72a-ff8d9a4811db",
   "metadata": {},
   "outputs": [
    {
     "name": "stdout",
     "output_type": "stream",
     "text": [
      "tensor([ 6.4153, 10.6890,  0.4376], grad_fn=<AddBackward0>)\n"
     ]
    }
   ],
   "source": [
    "V = z + U\n",
    "print(V)"
   ]
  },
  {
   "cell_type": "markdown",
   "id": "0828bb93-c88b-4fbf-b94d-c5b2a20bec6c",
   "metadata": {},
   "source": [
    "Here we see that the new torch tensor $V$ has the **grad_fn** attribute **AddBackward** because here our operation was an addition. Let's perform one last operation."
   ]
  },
  {
   "cell_type": "markdown",
   "id": "6aa42c3a-c8a4-4220-8d1f-4adaecb1ff99",
   "metadata": {},
   "source": [
    "<center><img \n",
    "     src=\"02_imgs/im7.png\" \n",
    "     align=\"center\" \n",
    "     width=\"530\" \n",
    "/></center>"
   ]
  },
  {
   "cell_type": "code",
   "execution_count": 31,
   "id": "0c9f6395-1f2f-4dbc-86a5-ccd0f1e80fa3",
   "metadata": {},
   "outputs": [
    {
     "name": "stdout",
     "output_type": "stream",
     "text": [
      "tensor(5.8473, grad_fn=<MeanBackward0>)\n"
     ]
    }
   ],
   "source": [
    "J = V.mean()\n",
    "print(J)"
   ]
  },
  {
   "cell_type": "markdown",
   "id": "27f8d78c-9629-4ec6-84fe-c8e9e8f8ac11",
   "metadata": {},
   "source": [
    "## Calculating Gradients "
   ]
  },
  {
   "cell_type": "markdown",
   "id": "62bd9a68-2143-4cb4-b971-5b8902e751f6",
   "metadata": {},
   "source": [
    "Here we can calculate the gradients of each tensor wrt our initial input tensor $x$. Because we specified **requires_grad=True** for our initial tensor $X$, PyTorch has maintained a computational graph that we can access by calling the **backward()** method on any of the tensors in the graph. "
   ]
  },
  {
   "cell_type": "code",
   "execution_count": 32,
   "id": "cdb1ce91-ef4f-45ef-99c0-d467ab343203",
   "metadata": {},
   "outputs": [],
   "source": [
    "# compute dJ/dx\n",
    "J.backward()"
   ]
  },
  {
   "cell_type": "code",
   "execution_count": 33,
   "id": "e1f4ae10-afd5-4f1c-9da9-6d07a1bd1008",
   "metadata": {},
   "outputs": [
    {
     "name": "stdout",
     "output_type": "stream",
     "text": [
      "tensor([1., 1., 1.])\n"
     ]
    }
   ],
   "source": [
    "print(x.grad)"
   ]
  },
  {
   "cell_type": "markdown",
   "id": "8fdc46b2-caa2-449e-b6f7-95366b586ce6",
   "metadata": {},
   "source": [
    "Here we see the gradients of $J$ wrt $x$. "
   ]
  },
  {
   "cell_type": "code",
   "execution_count": null,
   "id": "7b9ed5ac-b8b3-4f79-aef3-148d8dad6551",
   "metadata": {},
   "outputs": [],
   "source": []
  }
 ],
 "metadata": {
  "kernelspec": {
   "display_name": "Python 3 (ipykernel)",
   "language": "python",
   "name": "python3"
  },
  "language_info": {
   "codemirror_mode": {
    "name": "ipython",
    "version": 3
   },
   "file_extension": ".py",
   "mimetype": "text/x-python",
   "name": "python",
   "nbconvert_exporter": "python",
   "pygments_lexer": "ipython3",
   "version": "3.9.15"
  }
 },
 "nbformat": 4,
 "nbformat_minor": 5
}
